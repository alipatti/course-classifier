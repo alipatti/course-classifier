{
 "cells": [
  {
   "cell_type": "code",
   "execution_count": 6,
   "metadata": {},
   "outputs": [
    {
     "name": "stdout",
     "output_type": "stream",
     "text": [
      "WARNING:tensorflow:No training configuration found in save file, so the model was *not* compiled. Compile it manually.\n"
     ]
    }
   ],
   "source": [
    "import tensorflow as tf\n",
    "\n",
    "from scraper import preprocess\n",
    "\n",
    "model = tf.keras.models.load_model(\"model\")\n"
   ]
  },
  {
   "cell_type": "code",
   "execution_count": 7,
   "metadata": {},
   "outputs": [
    {
     "name": "stdout",
     "output_type": "stream",
     "text": [
      "This is a class about ecology and animals.\n",
      " - class ecology animals\n",
      " - biol (93.2%), pe (0.9%), geol (0.8%), germ (0.8%)\n",
      " - 1\n",
      "\n",
      "This class is about algorithms, computational complexity, and designing efficient data structures.\n",
      " - class algorithms computational complexity designing efficient data structures\n",
      " - cs (67.3%), math (11.9%), biol (4.9%), neur (4.2%)\n",
      " - 3\n",
      "\n",
      "This class will survey advanced topics in analysis including Hilbert spaces and measure theory.\n",
      " - class survey advanced topics analysis including hilbert spaces measure theory\n",
      " - biol (21.8%), math (10.0%), ents (8.6%), econ (7.0%)\n",
      " - 3\n",
      "\n",
      "A survey of topics in modern existential thought including Kierkegaard and Nietzsche.\n",
      " - survey topics modern existential thought including kierkegaard nietzsche\n",
      " - relg (29.6%), phil (8.9%), psyc (6.0%), germ (4.6%)\n",
      " - 2\n",
      "\n",
      "We will read the collected works of Jane Austen.\n",
      " - read collected works jane austen\n",
      " - engl (89.5%), musc (1.8%), amst (1.0%), latn (0.8%)\n",
      " - 1\n",
      "\n",
      "Advanced kazoo performance.\n",
      " - advanced kazoo performance\n",
      " - musc (82.2%), pe (4.3%), thea (2.7%), danc (1.7%)\n",
      " - 2\n",
      "\n",
      "Advanced underwater basket weaving.\n",
      " - advanced underwater basket weaving\n",
      " - musc (20.3%), pe (12.7%), biol (8.8%), russ (3.5%)\n",
      " - 2\n",
      "\n",
      "This class will examine the 1960s American civil rights movement and it's relationship to other political movements in Europe.\n",
      " - class examine american civil rights movement relationship political movements europe\n",
      " - hist (39.2%), posc (34.0%), gwss (10.8%), russ (1.8%)\n",
      " - 1\n",
      "\n",
      "This class will provide an introduction to calculus.\n",
      " - class provide introduction calculus\n",
      " - math (59.4%), ling (6.5%), musc (5.0%), pe (3.3%)\n",
      " - 1\n",
      "\n",
      "This class will study ecology, climate change, and its relationship to policy making.\n",
      " - class study ecology climate change relationship policy making\n",
      " - ents (41.4%), posc (23.2%), biol (11.4%), econ (6.8%)\n",
      " - 2\n",
      "\n"
     ]
    }
   ],
   "source": [
    "descriptions = [\n",
    "    \"This is a class about ecology and animals.\",\n",
    "    \"This class is about algorithms, computational complexity, and designing efficient data structures.\",\n",
    "    \"This class will survey advanced topics in analysis including Hilbert spaces and measure theory.\",\n",
    "    \"A survey of topics in modern existential thought including Kierkegaard and Nietzsche.\",\n",
    "    \"We will read the collected works of Jane Austen.\",\n",
    "    \"Advanced kazoo performance.\",\n",
    "    \"Advanced underwater basket weaving.\",\n",
    "    \"This class will examine the 1960s American civil rights movement and it's relationship to other political movements in Europe.\",\n",
    "    \"This class will provide an introduction to calculus.\",\n",
    "    \"This class will study ecology, climate change, and its relationship to policy making.\",\n",
    "]\n",
    "\n",
    "# make input in the expected format\n",
    "processed_descriptions = list(map(preprocess, descriptions))\n",
    "\n",
    "predictions = model.predict(processed_descriptions, verbose=0)\n",
    "\n",
    "for desc, processed_desc, depts, probs, level in zip(\n",
    "    descriptions, processed_descriptions, *predictions\n",
    "):  # type: ignore\n",
    "    print(desc)\n",
    "    print(\" -\", processed_desc)\n",
    "\n",
    "    print_limit = 4\n",
    "    print(\n",
    "        \" -\",\n",
    "        \", \".join(\n",
    "            f\"{dept.decode('ascii')} ({prob:.1%})\"\n",
    "            for dept, prob in zip(depts, probs[:print_limit])\n",
    "        ),\n",
    "    )\n",
    "    print(\" -\", level.argmax() + 1)\n",
    "    print()\n"
   ]
  }
 ],
 "metadata": {
  "kernelspec": {
   "display_name": ".venv",
   "language": "python",
   "name": "python3"
  },
  "language_info": {
   "codemirror_mode": {
    "name": "ipython",
    "version": 3
   },
   "file_extension": ".py",
   "mimetype": "text/x-python",
   "name": "python",
   "nbconvert_exporter": "python",
   "pygments_lexer": "ipython3",
   "version": "3.10.9"
  },
  "orig_nbformat": 4
 },
 "nbformat": 4,
 "nbformat_minor": 2
}
