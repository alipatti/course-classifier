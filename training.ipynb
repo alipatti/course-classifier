{
 "cells": [
  {
   "attachments": {},
   "cell_type": "markdown",
   "metadata": {},
   "source": [
    "## Setup"
   ]
  },
  {
   "cell_type": "code",
   "execution_count": 2,
   "metadata": {},
   "outputs": [
    {
     "name": "stderr",
     "output_type": "stream",
     "text": [
      "[nltk_data] Downloading package stopwords to /Users/ali/nltk_data...\n",
      "[nltk_data]   Package stopwords is already up-to-date!\n",
      "[nltk_data] Downloading package punkt to /Users/ali/nltk_data...\n",
      "[nltk_data]   Package punkt is already up-to-date!\n"
     ]
    }
   ],
   "source": [
    "import random\n",
    "\n",
    "import tensorflow as tf\n",
    "import numpy as np\n",
    "\n",
    "from scraper import Course"
   ]
  },
  {
   "attachments": {},
   "cell_type": "markdown",
   "metadata": {},
   "source": [
    "## Parameters"
   ]
  },
  {
   "cell_type": "code",
   "execution_count": 2,
   "metadata": {},
   "outputs": [],
   "source": [
    "SEED = 1473819\n",
    "random.seed(SEED)\n",
    "\n",
    "# training parameters\n",
    "TRAINING_EPOCHS = 50\n",
    "BATCH_SIZE = 100\n",
    "VALIDATION_PROPORTION = 0.2\n",
    "\n",
    "# model parameters\n",
    "VOCABULARY_SIZE = 9500\n",
    "SEQUENCE_LENGTH = 150\n",
    "EMBEDDING_DIMENSION = 100\n",
    "DROPOUT_CONSTANT = .2\n",
    "N_FEATURES = 128\n",
    "KERNEL_SIZE = 4\n"
   ]
  },
  {
   "attachments": {},
   "cell_type": "markdown",
   "metadata": {},
   "source": [
    "## Loading data"
   ]
  },
  {
   "cell_type": "code",
   "execution_count": 4,
   "metadata": {},
   "outputs": [
    {
     "data": {
      "text/plain": [
       "54"
      ]
     },
     "execution_count": 4,
     "metadata": {},
     "output_type": "execute_result"
    }
   ],
   "source": [
    "with open(\"courses.jsonl\", \"rt\") as f:\n",
    "    courses = list(map(Course.from_json, f.readlines()))\n",
    "\n",
    "DEPARTMENTS = list(set(course.dept for course in courses))\n",
    "len(DEPARTMENTS)"
   ]
  },
  {
   "cell_type": "code",
   "execution_count": 18,
   "metadata": {},
   "outputs": [
    {
     "name": "stdout",
     "output_type": "stream",
     "text": [
      "Training examples\t\t1417\n",
      "Test examples    \t\t355\n"
     ]
    }
   ],
   "source": [
    "# convert data into tensorflow dataset type\n",
    "def create_dataset(course_list: list[Course]) -> tf.data.Dataset:\n",
    "    # preprocessed course descriptions as input\n",
    "    descriptions = [course.description for course in course_list]\n",
    "\n",
    "    # one-hot label vectors\n",
    "    level_labels = tf.keras.utils.to_categorical(\n",
    "        [int(course.number[0]) - 1 for course in course_list], num_classes=4\n",
    "    )\n",
    "    dept_labels = tf.keras.utils.to_categorical(\n",
    "        [DEPARTMENTS.index(course.dept) for course in course_list],\n",
    "        num_classes=len(DEPARTMENTS),\n",
    "    )\n",
    "    labels = (dept_labels, level_labels)\n",
    "\n",
    "    # package as batched tensorflow dataset\n",
    "    return tf.data.Dataset.from_tensor_slices((descriptions, labels)).batch(BATCH_SIZE)\n",
    "\n",
    "# split course data into training and validation datasets\n",
    "random.shuffle(courses)\n",
    "n_train = int(len(courses) * (1 - VALIDATION_PROPORTION))\n",
    "training_data = create_dataset(courses[:n_train])\n",
    "validation_data = create_dataset(courses[n_train:])\n",
    "\n",
    "print(f\"Training examples\\t\\t{n_train}\")\n",
    "print(f\"Test examples    \\t\\t{len(courses) - n_train}\")\n"
   ]
  },
  {
   "attachments": {},
   "cell_type": "markdown",
   "metadata": {},
   "source": [
    "## Making the model"
   ]
  },
  {
   "attachments": {},
   "cell_type": "markdown",
   "metadata": {},
   "source": [
    "### Vectorizing input"
   ]
  },
  {
   "attachments": {},
   "cell_type": "markdown",
   "metadata": {},
   "source": [
    "We need to convert the preprocessed strings input into into sequences of integers that can be understood by the embedding layer. Each word in the vocabulary gets mapped to a unique integer index."
   ]
  },
  {
   "cell_type": "code",
   "execution_count": 20,
   "metadata": {},
   "outputs": [
    {
     "name": "stdout",
     "output_type": "stream",
     "text": [
      "['', '[UNK]', 'course', 'students', 'include', 'class', 'study', 'explore', 'political', 'social']\n"
     ]
    }
   ],
   "source": [
    "vectorizer = tf.keras.layers.TextVectorization(\n",
    "    max_tokens=VOCABULARY_SIZE,\n",
    "    output_sequence_length=SEQUENCE_LENGTH,\n",
    ")\n",
    "\n",
    "# adapt vectorizer to our vocabulary\n",
    "training_strings_only = training_data.map(lambda x, y: x)\n",
    "vectorizer.adapt(training_strings_only)\n",
    "\n",
    "# get the 10 most common words in the vocabulary.\n",
    "# the first two tokens are reserved for the empty padding\n",
    "# token (`''`) and the unknown token (`[UNK]`) that is\n",
    "# given to words not seen during training.\n",
    "\n",
    "vocabulary = vectorizer.get_vocabulary()\n",
    "print(vocabulary[:10])\n"
   ]
  },
  {
   "attachments": {},
   "cell_type": "markdown",
   "metadata": {},
   "source": [
    "### Loading pre-trained word embeddings"
   ]
  },
  {
   "attachments": {},
   "cell_type": "markdown",
   "metadata": {},
   "source": [
    "Creates a 100 dimensional vector for each word to embed the meanings of each word. We experimented with training our own embeddings, but found that department-classification accuracy topped out about 13 percent because we didn't have enough training data to develop understanding about what the words actually meant.\n",
    "\n",
    "We used [these](https://www.tensorflow.org/text/guide/word_embeddings) [guides](https://keras.io/examples/nlp/pretrained_word_embeddings/#load-pretrained-word-embeddings) to learn how to implement pre-trained embeddings in tensorflow.\n"
   ]
  },
  {
   "cell_type": "code",
   "execution_count": 6,
   "metadata": {},
   "outputs": [],
   "source": [
    "# fetch and unzip embeddings from from stanford research group (~1GB)\n",
    "\n",
    "# uncomment the following to download:\n",
    "# !curl -o embeddings/glove.6B.zip \"https://downloads.cs.stanford.edu/nlp/data/glove.6B.zip\" \n",
    "# !unzip embeddings/glove.6B.zip -d embeddings\n",
    "\n",
    "# !rm embeddings/glove.6B.zip\n",
    "# !rm embeddings/glove.6B.{50d,200d,300d}.txt  # keep only 100-dimensional embeddings"
   ]
  },
  {
   "cell_type": "code",
   "execution_count": 7,
   "metadata": {},
   "outputs": [
    {
     "name": "stdout",
     "output_type": "stream",
     "text": [
      "the -0.038194 -0.24487 0.72812 -0.39961 0.083172 0.043953 -0.39141 0.3344 -0.57545 0.087459 0.28787 -0.06731 0.30906 -0.26384 -0.13231 -0.20757 0.33395 -0.33848 -0.31743 -0.48336 0.1464 -0.37304 0.34577 0.052041 0.44946 -0.46971 0.02628 -0.54155 -0.15518 -0.14107 -0.039722 0.28277 0.14393 0.23464 -0.31021 0.086173 0.20397 0.52624 0.17164 -0.082378 -0.71787 -0.41531 0.20335 -0.12763 0.41367 0.55187 0.57908 -0.33477 -0.36559 -0.54857 -0.062892 0.26584 0.30205 0.99775 -0.80481 -3.0243 0.01254 -0.36942 2.2167 0.72201 -0.24978 0.92136 0.034514 0.46745 1.1079 -0.19358 -0.074575 0.23353 -0.052062 -0.22044 0.057162 -0.15806 -0.30798 -0.41625 0.37972 0.15006 -0.53212 -0.2055 -1.2526 0.071624 0.70565 0.49744 -0.42063 0.26148 -1.538 -0.30223 -0.073438 -0.28312 0.37104 -0.25217 0.016215 -0.017099 -0.38984 0.87424 -0.72569 -0.51058 -0.52028 -0.1459 0.8278 0.27062\n",
      "\n"
     ]
    }
   ],
   "source": [
    "# print out a line of the embedding file\n",
    "\n",
    "with open(\"embeddings/glove.6B.100d.txt\") as f:\n",
    "    print(f.readline())"
   ]
  },
  {
   "attachments": {},
   "cell_type": "markdown",
   "metadata": {},
   "source": [
    "Next, we need to coerce the embeddings into a format understandable by tensorflow."
   ]
  },
  {
   "cell_type": "code",
   "execution_count": 8,
   "metadata": {},
   "outputs": [],
   "source": [
    "# create mapping : word -> embedding as string of space-delimited floats\n",
    "with open(\"embeddings/glove.6B.100d.txt\") as f:\n",
    "    embeddings = dict(line.split(maxsplit=1) for line in f.readlines())\n",
    "\n",
    "# create mapping : vocab index -> embedding as numpy vector\n",
    "embedding_matrix = np.zeros((VOCABULARY_SIZE, EMBEDDING_DIMENSION))\n",
    "for i, word in enumerate(vocabulary):\n",
    "    if word not in embeddings:\n",
    "        # this article suggests to leave the embedding as the 0-vector\n",
    "        # https://keras.io/examples/nlp/pretrained_word_embeddings/#load-pretrained-word-embeddings\n",
    "        continue\n",
    "\n",
    "    embedding_matrix[i] = np.fromstring(embeddings[word], dtype=float, sep=\" \")"
   ]
  },
  {
   "cell_type": "code",
   "execution_count": 9,
   "metadata": {},
   "outputs": [
    {
     "name": "stdout",
     "output_type": "stream",
     "text": [
      "Unable to find embedding for 223 out of 9500 tokens\n"
     ]
    },
    {
     "data": {
      "text/plain": [
       "array(['', '[UNK]', 'posc', 'latinx', 'handbuilding', 'zhongruan',\n",
       "       'ireal', 'indigeneity', 'eportfolio', 'dumbek', 'bawu',\n",
       "       'recontextualization', 'psyc', 'oeconomicus', 'latinxs',\n",
       "       'improvisationally', 'autofictional', 'accompanimental', 'özdamar',\n",
       "       'uality', 'transnationally', 'tawada', 'maroonage', 'fieldtrips',\n",
       "       'familiarizes'], dtype='<U20')"
      ]
     },
     "execution_count": 9,
     "metadata": {},
     "output_type": "execute_result"
    }
   ],
   "source": [
    "# count number of zero vectors, i.e., tokens in the catalog for which no embeddings exists\n",
    "no_embedding = np.all(embedding_matrix == 0, axis=1)\n",
    "print(f\"Unable to find embedding for {np.count_nonzero(no_embedding)} out of {VOCABULARY_SIZE} tokens\")\n",
    "\n",
    "# print out the words themselves... they're pretty obscure\n",
    "no_embedding_indices = np.arange(VOCABULARY_SIZE)[no_embedding]\n",
    "np.take(vocabulary, no_embedding_indices)[:25]"
   ]
  },
  {
   "cell_type": "code",
   "execution_count": 10,
   "metadata": {},
   "outputs": [],
   "source": [
    "# package matrix as keras layer\n",
    "\n",
    "pretrained_embedding_layer = tf.keras.layers.Embedding(\n",
    "    VOCABULARY_SIZE,\n",
    "    EMBEDDING_DIMENSION,\n",
    "    embeddings_initializer=tf.keras.initializers.Constant(embedding_matrix),  # type: ignore\n",
    "    trainable=True,  # don't update the weights as we train\n",
    "    # TODO try this with trainable = True?\n",
    ")"
   ]
  },
  {
   "attachments": {},
   "cell_type": "markdown",
   "metadata": {},
   "source": [
    "### Assembling the model"
   ]
  },
  {
   "attachments": {},
   "cell_type": "markdown",
   "metadata": {},
   "source": [
    "Inspiration for architecture taken from \n",
    "\n",
    "- https://www.atmosera.com/blog/text-classification-with-neural-networks/ (tokenizing input during preprocessing)\n",
    "- https://www.tensorflow.org/tutorials/keras/text_classification (vectorizing input)\n",
    "- https://keras.io/examples/nlp/pretrained_word_embeddings/#load-pretrained-word-embeddings (pretrained embeddings)\n",
    "- https://cezannec.github.io/CNN_Text_Classification/ (using 1-d convolution)\n"
   ]
  },
  {
   "cell_type": "code",
   "execution_count": 15,
   "metadata": {},
   "outputs": [],
   "source": [
    "input = tf.keras.Input(shape=(), dtype=\"string\")\n",
    "\n",
    "x = vectorizer(input)\n",
    "x = pretrained_embedding_layer(x)\n",
    "\n",
    "# shared feature-extraction layers\n",
    "x = tf.keras.layers.Dropout(DROPOUT_CONSTANT)(x)\n",
    "x = tf.keras.layers.Conv1D(N_FEATURES, KERNEL_SIZE, activation=\"relu\", name = \"features\")(x)\n",
    "x = tf.keras.layers.Dropout(DROPOUT_CONSTANT)(x)\n",
    "x = tf.keras.layers.GlobalMaxPool1D(name = \"features-pooled\")(x)\n",
    "\n",
    "# two separate output layers\n",
    "y_dept = tf.keras.layers.Dense(len(DEPARTMENTS), activation=\"softmax\", name = \"dept\")(x)\n",
    "y_level = tf.keras.layers.Dense(4, activation=\"softmax\", name = \"level\")(x)\n",
    "\n",
    "model = tf.keras.Model(inputs = input, outputs = (y_dept, y_level))"
   ]
  },
  {
   "attachments": {},
   "cell_type": "markdown",
   "metadata": {},
   "source": [
    "## Training"
   ]
  },
  {
   "cell_type": "code",
   "execution_count": 16,
   "metadata": {},
   "outputs": [],
   "source": [
    "model.compile(\n",
    "    loss=tf.losses.CategoricalCrossentropy(),\n",
    "    optimizer=\"adam\",\n",
    "    metrics=[\"accuracy\"],\n",
    ")\n",
    "\n",
    "training_history = model.fit(\n",
    "    training_data,\n",
    "    epochs=TRAINING_EPOCHS,\n",
    "    validation_data=validation_data,\n",
    "    verbose=0,\n",
    ")\n"
   ]
  },
  {
   "cell_type": "code",
   "execution_count": 24,
   "metadata": {},
   "outputs": [
    {
     "data": {
      "image/png": "[encoded data removed]",
      "text/plain": [
       "<Figure size 1600x600 with 2 Axes>"
      ]
     },
     "metadata": {},
     "output_type": "display_data"
    }
   ],
   "source": [
    "import matplotlib.pyplot as plt\n",
    "\n",
    "def plot_graphs(history, metric):\n",
    "    plt.plot(history.history[metric])\n",
    "    plt.plot(history.history['val_'+metric], '')\n",
    "    plt.xlabel(\"Epochs\")\n",
    "    plt.ylabel(metric)\n",
    "    plt.legend([metric, 'val_'+metric])\n",
    "\n",
    "plt.figure(figsize=(16, 6))\n",
    "plt.subplot(1, 2, 1)\n",
    "plot_graphs(training_history, 'dept_accuracy')\n",
    "plt.subplot(1, 2, 2)\n",
    "plot_graphs(training_history, 'level_accuracy')"
   ]
  },
  {
   "attachments": {},
   "cell_type": "markdown",
   "metadata": {},
   "source": [
    "## Polishing for deployment"
   ]
  },
  {
   "cell_type": "code",
   "execution_count": 21,
   "metadata": {},
   "outputs": [],
   "source": [
    "# create final output layer for model that returns\n",
    "# (a) a tensor of departments, sorted from most to least probable\n",
    "# (b) the associated tensor of department probabilities\n",
    "# (c) a tensor of course level probabilities\n",
    "\n",
    "@tf.keras.utils.register_keras_serializable()\n",
    "class OutputLayer(tf.keras.layers.Layer):\n",
    "    def __init__(self, department_names: list[str], **kwargs):\n",
    "        super().__init__(**kwargs)\n",
    "        self.department_names = department_names\n",
    "\n",
    "    def call(self, unsorted_probabilities):\n",
    "        \"\"\"Returns a tensor of departments ranked most to least \n",
    "        likely and a tensor of the corresponding probabilities.\"\"\"\n",
    "        \n",
    "        sorted_indices = tf.argsort(unsorted_probabilities, axis=-1, direction=\"DESCENDING\")\n",
    "        sorted_departments = tf.gather(self.department_names, sorted_indices)\n",
    "        sorted_probabilities = tf.sort(unsorted_probabilities, axis=-1, direction=\"DESCENDING\")\n",
    "        \n",
    "        return sorted_departments, sorted_probabilities\n",
    "\n",
    "    def get_config(self):\n",
    "        \"\"\"Method used to serialize and deserialize the layer.\"\"\"\n",
    "        return super().get_config() | {\"department_names\": self.department_names}\n",
    "\n",
    "\n",
    "dept_probabilities, level_probabilities = model.output\n",
    "dept_names, dept_probabilities = OutputLayer(DEPARTMENTS)(dept_probabilities)  # type: ignore\n",
    "\n",
    "complete_model = tf.keras.Model(\n",
    "    inputs=model.input,\n",
    "    outputs=[dept_names, dept_probabilities, level_probabilities],\n",
    ")"
   ]
  },
  {
   "cell_type": "code",
   "execution_count": 23,
   "metadata": {},
   "outputs": [
    {
     "name": "stdout",
     "output_type": "stream",
     "text": [
      "WARNING:tensorflow:Compiled the loaded model, but the compiled metrics have yet to be built. `model.compile_metrics` will be empty until you train or evaluate the model.\n"
     ]
    },
    {
     "name": "stderr",
     "output_type": "stream",
     "text": [
      "WARNING:tensorflow:Compiled the loaded model, but the compiled metrics have yet to be built. `model.compile_metrics` will be empty until you train or evaluate the model.\n",
      "WARNING:absl:Found untraced functions such as _jit_compiled_convolution_op while saving (showing 1 of 1). These functions will not be directly callable after loading.\n"
     ]
    },
    {
     "name": "stdout",
     "output_type": "stream",
     "text": [
      "INFO:tensorflow:Assets written to: model/assets\n"
     ]
    },
    {
     "name": "stderr",
     "output_type": "stream",
     "text": [
      "INFO:tensorflow:Assets written to: model/assets\n"
     ]
    }
   ],
   "source": [
    "complete_model.save(\"model\")"
   ]
  },
  {
   "cell_type": "code",
   "execution_count": null,
   "metadata": {},
   "outputs": [],
   "source": []
  }
 ],
 "metadata": {
  "kernelspec": {
   "display_name": ".venv",
   "language": "python",
   "name": "python3"
  },
  "language_info": {
   "codemirror_mode": {
    "name": "ipython",
    "version": 3
   },
   "file_extension": ".py",
   "mimetype": "text/x-python",
   "name": "python",
   "nbconvert_exporter": "python",
   "pygments_lexer": "ipython3",
   "version": "3.10.9"
  },
  "orig_nbformat": 4
 },
 "nbformat": 4,
 "nbformat_minor": 2
}
